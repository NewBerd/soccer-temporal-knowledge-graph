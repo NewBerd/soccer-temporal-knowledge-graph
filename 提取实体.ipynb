{
 "cells": [
  {
   "cell_type": "markdown",
   "metadata": {},
   "source": [
    "## 提取球员名字"
   ]
  },
  {
   "cell_type": "code",
   "execution_count": 10,
   "metadata": {},
   "outputs": [],
   "source": [
    "names = []\n",
    "with open(\"playersData.txt\", \"r\", encoding=\"utf-8\") as f:\n",
    "    for line in f.readlines():\n",
    "        dict_line = eval(line)\n",
    "        names.append(dict_line[\"base_info\"][\"中文名\"] + \"\\n\")"
   ]
  },
  {
   "cell_type": "code",
   "execution_count": 11,
   "metadata": {},
   "outputs": [],
   "source": [
    "playersName = set(names)"
   ]
  },
  {
   "cell_type": "code",
   "execution_count": 12,
   "metadata": {},
   "outputs": [],
   "source": [
    "with open(\"playersName.txt\", \"w+\", encoding=\"utf-8\") as f:\n",
    "    f.writelines(playersName)"
   ]
  },
  {
   "cell_type": "markdown",
   "metadata": {},
   "source": [
    "## 提取球队名字"
   ]
  },
  {
   "cell_type": "code",
   "execution_count": 13,
   "metadata": {},
   "outputs": [],
   "source": [
    "teams = []\n",
    "with open(\"teamsData.txt\", \"r\", encoding=\"utf-8\") as f:\n",
    "    for line in f.readlines():\n",
    "        dict_line = eval(line)\n",
    "        teams.append(dict_line[\"team_base_info\"][\"team_name\"] + \"\\n\")"
   ]
  },
  {
   "cell_type": "code",
   "execution_count": 14,
   "metadata": {},
   "outputs": [],
   "source": [
    "teams = set(teams)"
   ]
  },
  {
   "cell_type": "code",
   "execution_count": 15,
   "metadata": {},
   "outputs": [],
   "source": [
    "with open(\"teamsName.txt\", \"w+\", encoding=\"utf-8\") as f:\n",
    "    f.writelines(teams)"
   ]
  },
  {
   "cell_type": "markdown",
   "metadata": {},
   "source": [
    "## 提取荣誉名"
   ]
  },
  {
   "cell_type": "code",
   "execution_count": 16,
   "metadata": {},
   "outputs": [],
   "source": [
    "import csv"
   ]
  },
  {
   "cell_type": "code",
   "execution_count": 18,
   "metadata": {},
   "outputs": [],
   "source": [
    "honors = []\n",
    "with open(\"soccerQuintuples.csv\", \"r\", encoding=\"utf-8\") as f:\n",
    "    for line in csv.reader(f):\n",
    "        if line[1] == \"荣誉\":\n",
    "            honors.append(line[2])\n",
    "honors = set(honors)"
   ]
  },
  {
   "cell_type": "code",
   "execution_count": 19,
   "metadata": {},
   "outputs": [],
   "source": [
    "with open(\"honorsName.txt\", \"w+\", encoding=\"utf-8\") as f:\n",
    "    for ele in honors:\n",
    "        f.write(ele + \"\\n\")"
   ]
  },
  {
   "cell_type": "markdown",
   "metadata": {},
   "source": [
    "## 伤病实体"
   ]
  },
  {
   "cell_type": "code",
   "execution_count": 1,
   "metadata": {},
   "outputs": [],
   "source": [
    "import csv"
   ]
  },
  {
   "cell_type": "code",
   "execution_count": null,
   "metadata": {},
   "outputs": [],
   "source": [
    "injury = []\n",
    "with open(\"soccerQuintuples.csv\", \"r\", encoding=\"utf-8\") as f:\n",
    "    for line in csv.reader(f):\n",
    "        if line[1] == \"伤病\":\n",
    "            injury.append(line[2])\n",
    " = set(honors)"
   ]
  }
 ],
 "metadata": {
  "kernelspec": {
   "display_name": "Python 3",
   "language": "python",
   "name": "python3"
  },
  "language_info": {
   "codemirror_mode": {
    "name": "ipython",
    "version": 3
   },
   "file_extension": ".py",
   "mimetype": "text/x-python",
   "name": "python",
   "nbconvert_exporter": "python",
   "pygments_lexer": "ipython3",
   "version": "3.6.8"
  }
 },
 "nbformat": 4,
 "nbformat_minor": 2
}
