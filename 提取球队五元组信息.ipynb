{
 "cells": [
  {
   "cell_type": "code",
   "execution_count": 1,
   "metadata": {},
   "outputs": [],
   "source": [
    "import json\n",
    "import csv"
   ]
  },
  {
   "cell_type": "code",
   "execution_count": 11,
   "metadata": {},
   "outputs": [],
   "source": [
    "with open(\"teamsData.txt\", \"r\", encoding=\"utf-8\") as f:\n",
    "    for line in f.readlines():\n",
    "        line = line.strip()\n",
    "#         print(line)\n",
    "#         teamInfo = json.loads(line)#需要键值对都是双引号\n",
    "        teamInfo = eval(line)\n",
    "#         print(teamInfo[\"url\"])\n",
    "        teamUrl = teamInfo[\"url\"]\n",
    "        teamBaseInfo = teamInfo[\"team_base_info\"]\n",
    "        teamRelatedPlayers = teamInfo[\"team_related_player\"]\n",
    "        teamHonors = teamInfo[\"honor_record\"]\n",
    "        teamName = teamBaseInfo[\"team_name\"]\n",
    "        quintuple = [teamName, \"url\", teamUrl, \"\", \"\"]\n",
    "        teamData = []\n",
    "        teamData.append(quintuple)\n",
    "        for k, v in teamBaseInfo.items():\n",
    "            if not v == \"\":\n",
    "                quintuple = [teamName, k, v, \"\", \"\"]\n",
    "                teamData.append(quintuple)\n",
    "        \n",
    "        for listt in teamRelatedPlayers[1:]:\n",
    "            quintuple = [teamName, listt[0], listt[2], \"\", \"\"]\n",
    "            teamData.append(quintuple)\n",
    "        \n",
    "        for k, v in teamHonors.items():\n",
    "            if not v == None or not v == \"\":\n",
    "                if isinstance(v, str):\n",
    "                    time = v.split(\"/\")\n",
    "                    if len(time) == 2:\n",
    "                        quintuple = [teamName, \"荣誉\", k, time[0], time[1]]\n",
    "                        teamData.append(quintuple)\n",
    "                    else:\n",
    "                        quintuple = [teamName, \"荣誉\", k, time[0], time[0]]\n",
    "                        teamData.append(quintuple)\n",
    "                if isinstance(v, list):\n",
    "                    for ele in v:\n",
    "                        time = ele.split(\"/\")\n",
    "                        if len(time) == 2:\n",
    "                            quintuple = [teamName, \"荣誉\", k, time[0], time[1]]\n",
    "                            teamData.append(quintuple)\n",
    "                        else:\n",
    "                            quintuple = [teamName, \"荣誉\", k, time[0], time[0]]\n",
    "                            teamData.append(quintuple)\n",
    "        \n",
    "        with open(\"teamsQuintuples.csv\", \"a+\", encoding=\"utf-8\", newline=\"\") as f:\n",
    "            writer = csv.writer(f)\n",
    "            writer.writerows(teamData)"
   ]
  },
  {
   "cell_type": "code",
   "execution_count": null,
   "metadata": {},
   "outputs": [],
   "source": []
  }
 ],
 "metadata": {
  "kernelspec": {
   "display_name": "Python 3",
   "language": "python",
   "name": "python3"
  },
  "language_info": {
   "codemirror_mode": {
    "name": "ipython",
    "version": 3
   },
   "file_extension": ".py",
   "mimetype": "text/x-python",
   "name": "python",
   "nbconvert_exporter": "python",
   "pygments_lexer": "ipython3",
   "version": "3.6.5"
  }
 },
 "nbformat": 4,
 "nbformat_minor": 2
}
